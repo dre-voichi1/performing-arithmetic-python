{
 "cells": [
  {
   "cell_type": "code",
   "execution_count": 18,
   "id": "25535d24-07c0-42f3-a9d9-8302d11ec3ef",
   "metadata": {},
   "outputs": [
    {
     "name": "stdout",
     "output_type": "stream",
     "text": [
      "True True\n"
     ]
    }
   ],
   "source": [
    "a_number = 5\n",
    "my_favorite_number = 4\n",
    "my_least_favorite_number = 99\n",
    "\n",
    "print(a_number == 5, my_favorite_number != 10)"
   ]
  },
  {
   "cell_type": "code",
   "execution_count": 19,
   "id": "48dbbcbb-34d5-46ac-a551-413838e64de2",
   "metadata": {},
   "outputs": [
    {
     "data": {
      "text/plain": [
       "False"
      ]
     },
     "execution_count": 19,
     "metadata": {},
     "output_type": "execute_result"
    }
   ],
   "source": [
    "my_favorite_number > my_least_favorite_number"
   ]
  },
  {
   "cell_type": "code",
   "execution_count": 21,
   "id": "767cc53d-abda-41b9-b334-8b441675833f",
   "metadata": {},
   "outputs": [
    {
     "data": {
      "text/plain": [
       "True"
      ]
     },
     "execution_count": 21,
     "metadata": {},
     "output_type": "execute_result"
    }
   ],
   "source": [
    "a_number > -1"
   ]
  },
  {
   "cell_type": "code",
   "execution_count": 2,
   "id": "1587256b-fcdd-4339-904b-9574e10b37e0",
   "metadata": {},
   "outputs": [
    {
     "name": "stdout",
     "output_type": "stream",
     "text": [
      "True False\n"
     ]
    }
   ],
   "source": [
    "print(cost_of_ice_bag < a_number, a_number > 10) # Output: \"True False\""
   ]
  },
  {
   "cell_type": "code",
   "execution_count": 1,
   "id": "97a14ed7-ecb0-4945-8861-d04ee0e96351",
   "metadata": {},
   "outputs": [
    {
     "name": "stdout",
     "output_type": "stream",
     "text": [
      "Is the ice bag too expensive? False.\n"
     ]
    }
   ],
   "source": [
    "cost_of_ice_bag = 1.25\n",
    "print(f\"Is the cost of the ice bag too expensive? {cost_of_ice_bag > 10}.\")\n",
    "\n",
    "# If ice bag price is greater than or equal to 10, it's too expensive\n",
    "is_ice_bag_too_expensive = cost_of_ice_bag >= 10\n",
    "print(f\"Is the ice bag too expensive? {is_ice_bag_too_expensive}.\")"
   ]
  }
 ],
 "metadata": {
  "kernelspec": {
   "display_name": "Python 3 (ipykernel)",
   "language": "python",
   "name": "python3"
  },
  "language_info": {
   "codemirror_mode": {
    "name": "ipython",
    "version": 3
   },
   "file_extension": ".py",
   "mimetype": "text/x-python",
   "name": "python",
   "nbconvert_exporter": "python",
   "pygments_lexer": "ipython3",
   "version": "3.8.20"
  }
 },
 "nbformat": 4,
 "nbformat_minor": 5
}
