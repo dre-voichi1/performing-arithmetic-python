{
 "cells": [
  {
   "cell_type": "code",
   "execution_count": 1,
   "id": "3fdc1634-405f-4518-9481-186735b48ee3",
   "metadata": {},
   "outputs": [
    {
     "name": "stdout",
     "output_type": "stream",
     "text": [
      "125.0\n",
      "The total profit is $125.0\n",
      "The total profit is, 125.0\n",
      "The total profit from the ice bags sold is $125.00\n"
     ]
    }
   ],
   "source": [
    "# 1. A grocery store sells a bag of ice for $1.25, and makes 20% profit. If it sells 500 bags of ice, how much total profit does it make?\n",
    "# Variables in Python are containers of data that can be used in real-world scenarios and coding in general\n",
    "\n",
    "# For variables in Python, the naming convention is multiple words are separated by underscores (called \"snake case\")\n",
    "cost_of_ice_bag = 1.25\n",
    "profit_margin = 0.2\n",
    "\n",
    "profit_per_bag = profit_margin * cost_of_ice_bag\n",
    "total_number_of_bags_sold = 500\n",
    "\n",
    "# Tip: You can press tab to autocomplete certain code snippets after typing the first few characters\n",
    "total_profit = total_number_of_bags_sold * profit_per_bag\n",
    "\n",
    "# print() takes anything convertible to a string and outputs it (it's also a builr-in function inside Python)\n",
    "print(total_profit)\n",
    "\n",
    "# Other ways to print strings\n",
    "print(\"The total profit is $\" + str(total_profit))\n",
    "print(\"The total profit is\", total_profit)\n",
    "print(f\"The total profit from the ice bags sold is ${total_profit:.2f}\") # f-strings allow for structured text for more complex expressions"
   ]
  },
  {
   "cell_type": "code",
   "execution_count": null,
   "id": "f62b4327-9a97-4f3b-8286-79c6d90110ec",
   "metadata": {},
   "outputs": [],
   "source": [
    "# This is a single-line comment in Python, where you can descibe your code in plain tex\n",
    "\n",
    "\"\"\"\n",
    "(A multi-line comment)\n",
    "Write as little or as much as you'd like.\n",
    "\n",
    "Comments are really helpful for people reading\n",
    "your code, but try to keep them short & to-the-point.\n",
    "\n",
    "Also, if you use good variable names, then your code is\n",
    "often self explanatory, and you may not even need comments!\n",
    "\"\"\"\n",
    "a_neutral_number = 5"
   ]
  }
 ],
 "metadata": {
  "kernelspec": {
   "display_name": "Python 3 (ipykernel)",
   "language": "python",
   "name": "python3"
  },
  "language_info": {
   "codemirror_mode": {
    "name": "ipython",
    "version": 3
   },
   "file_extension": ".py",
   "mimetype": "text/x-python",
   "name": "python",
   "nbconvert_exporter": "python",
   "pygments_lexer": "ipython3",
   "version": "3.8.20"
  }
 },
 "nbformat": 4,
 "nbformat_minor": 5
}
