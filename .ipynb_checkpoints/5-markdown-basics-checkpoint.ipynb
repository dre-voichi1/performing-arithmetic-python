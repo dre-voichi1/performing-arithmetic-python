{
 "cells": [
  {
   "cell_type": "markdown",
   "id": "6514d41d-c368-4588-8d1e-fb029ecb8450",
   "metadata": {},
   "source": [
    "# Header 1\n",
    "## Header 2\n",
    "### Header 3\n",
    "#### Header 4, etc\n",
    "\n",
    "# Bulleted lists\n",
    "* Item 1\n",
    "* Item 2\n",
    "* Item 3\n",
    "* etc\n",
    "\n",
    "# Numbered lists\n",
    "1. Item #1\n",
    "2. Item #2\n",
    "3. Item #3\n",
    "4. etc\n",
    "\n",
    "*This text is italic* and **This text is bold**\n",
    "\n",
    "This is [A link](https://chromewebstore.google.com/)"
   ]
  },
  {
   "cell_type": "markdown",
   "id": "3a623d9e-117a-4c0f-9fd7-d6148346d87d",
   "metadata": {},
   "source": [
    "```python\n",
    "# Perform the required calculations\n",
    "profit_per_bag = cost_of_ice_bag * profit_margin\n",
    "total_profit = number_of_bags * profit_per_bag\n",
    "\n",
    "# Display the result\n",
    "print(\"The grocery store makes a total profit of $\", total_profit)\n",
    "```"
   ]
  }
 ],
 "metadata": {
  "kernelspec": {
   "display_name": "Python 3 (ipykernel)",
   "language": "python",
   "name": "python3"
  },
  "language_info": {
   "codemirror_mode": {
    "name": "ipython",
    "version": 3
   },
   "file_extension": ".py",
   "mimetype": "text/x-python",
   "name": "python",
   "nbconvert_exporter": "python",
   "pygments_lexer": "ipython3",
   "version": "3.8.20"
  }
 },
 "nbformat": 4,
 "nbformat_minor": 5
}
