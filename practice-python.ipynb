{
 "cells": [
  {
   "cell_type": "code",
   "execution_count": null,
   "id": "955fae05-45d5-453a-b1eb-e559eade9445",
   "metadata": {},
   "outputs": [],
   "source": [
    "# Name a variable called \"new_number\" and check if it's less than 5\n",
    "new_number = 4\n",
    "print(f\"Is new number < 5? {new_number < 5}.\")"
   ]
  }
 ],
 "metadata": {
  "kernelspec": {
   "display_name": "Python 3 (ipykernel)",
   "language": "python",
   "name": "python3"
  },
  "language_info": {
   "codemirror_mode": {
    "name": "ipython",
    "version": 3
   },
   "file_extension": ".py",
   "mimetype": "text/x-python",
   "name": "python",
   "nbconvert_exporter": "python",
   "pygments_lexer": "ipython3",
   "version": "3.8.20"
  }
 },
 "nbformat": 4,
 "nbformat_minor": 5
}
