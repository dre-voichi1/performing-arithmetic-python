{
 "cells": [
  {
   "cell_type": "code",
   "execution_count": 2,
   "id": "25e05f0d-88ad-4b79-8ecd-d392fbfee961",
   "metadata": {},
   "outputs": [
    {
     "data": {
      "text/plain": [
       "117578"
      ]
     },
     "execution_count": 2,
     "metadata": {},
     "output_type": "execute_result"
    }
   ],
   "source": [
    "198568 - (45312 + 35678)"
   ]
  },
  {
   "cell_type": "code",
   "execution_count": 3,
   "id": "865f6cdd-64fd-4d27-9d94-6af008ba29c4",
   "metadata": {},
   "outputs": [
    {
     "data": {
      "text/plain": [
       "58200"
      ]
     },
     "execution_count": 3,
     "metadata": {},
     "output_type": "execute_result"
    }
   ],
   "source": [
    "2425 * 24"
   ]
  },
  {
   "cell_type": "code",
   "execution_count": 4,
   "id": "b19584f1-65eb-4c38-9dc2-c6f31eac51a2",
   "metadata": {},
   "outputs": [
    {
     "data": {
      "text/plain": [
       "585"
      ]
     },
     "execution_count": 4,
     "metadata": {},
     "output_type": "execute_result"
    }
   ],
   "source": [
    "5000 - (2265 + 2150)"
   ]
  },
  {
   "cell_type": "code",
   "execution_count": 5,
   "id": "362e6cf2-60f0-4fc9-881a-f625b6533f43",
   "metadata": {},
   "outputs": [
    {
     "data": {
      "text/plain": [
       "4564.0"
      ]
     },
     "execution_count": 5,
     "metadata": {},
     "output_type": "execute_result"
    }
   ],
   "source": [
    "95844 / 21"
   ]
  },
  {
   "cell_type": "code",
   "execution_count": 6,
   "id": "f014fc4c-b907-432b-9786-e5e53d5417aa",
   "metadata": {},
   "outputs": [
    {
     "data": {
      "text/plain": [
       "294384"
      ]
     },
     "execution_count": 6,
     "metadata": {},
     "output_type": "execute_result"
    }
   ],
   "source": [
    "24532 * 12"
   ]
  },
  {
   "cell_type": "code",
   "execution_count": 7,
   "id": "ab8db733-0152-4185-ad4b-c7fcbf367bc2",
   "metadata": {},
   "outputs": [
    {
     "data": {
      "text/plain": [
       "67545"
      ]
     },
     "execution_count": 7,
     "metadata": {},
     "output_type": "execute_result"
    }
   ],
   "source": [
    "450000 - (145968 + 236487)"
   ]
  },
  {
   "cell_type": "code",
   "execution_count": 8,
   "id": "18fb952a-be8d-4cf4-8500-880d6f0b9a63",
   "metadata": {},
   "outputs": [
    {
     "data": {
      "text/plain": [
       "199188"
      ]
     },
     "execution_count": 8,
     "metadata": {},
     "output_type": "execute_result"
    }
   ],
   "source": [
    "483685 - (146345 + 138152)"
   ]
  },
  {
   "cell_type": "code",
   "execution_count": 10,
   "id": "b559e4a8-e961-450d-bc5f-70d2da2c3d99",
   "metadata": {},
   "outputs": [
    {
     "data": {
      "text/plain": [
       "1162128"
      ]
     },
     "execution_count": 10,
     "metadata": {},
     "output_type": "execute_result"
    }
   ],
   "source": [
    "9372 * 124"
   ]
  },
  {
   "cell_type": "code",
   "execution_count": 11,
   "id": "3137b428-9047-47b9-9b25-c44890f7a830",
   "metadata": {},
   "outputs": [
    {
     "data": {
      "text/plain": [
       "51.0"
      ]
     },
     "execution_count": 11,
     "metadata": {},
     "output_type": "execute_result"
    }
   ],
   "source": [
    "4386 / 86"
   ]
  },
  {
   "cell_type": "code",
   "execution_count": 12,
   "id": "c86b06a1-9c0e-4920-9538-9c91c6fdbd1d",
   "metadata": {},
   "outputs": [
    {
     "data": {
      "text/plain": [
       "21.0"
      ]
     },
     "execution_count": 12,
     "metadata": {},
     "output_type": "execute_result"
    }
   ],
   "source": [
    "1575 / 75"
   ]
  },
  {
   "cell_type": "code",
   "execution_count": 13,
   "id": "9cd37300-2d68-4c36-93af-fadbd0048118",
   "metadata": {},
   "outputs": [
    {
     "data": {
      "text/plain": [
       "51625"
      ]
     },
     "execution_count": 13,
     "metadata": {},
     "output_type": "execute_result"
    }
   ],
   "source": [
    "1475 * 35"
   ]
  },
  {
   "cell_type": "code",
   "execution_count": 14,
   "id": "675a7b9e-3392-42e7-85bb-984629e802f7",
   "metadata": {},
   "outputs": [
    {
     "data": {
      "text/plain": [
       "134249"
      ]
     },
     "execution_count": 14,
     "metadata": {},
     "output_type": "execute_result"
    }
   ],
   "source": [
    "52496 + 44929 + 36824"
   ]
  },
  {
   "cell_type": "code",
   "execution_count": 2,
   "id": "1a41c9b7-562d-472f-96ee-fb0152be3fb0",
   "metadata": {},
   "outputs": [
    {
     "data": {
      "text/plain": [
       "135.0"
      ]
     },
     "execution_count": 2,
     "metadata": {},
     "output_type": "execute_result"
    }
   ],
   "source": [
    "12960 / 96"
   ]
  },
  {
   "cell_type": "code",
   "execution_count": 16,
   "id": "7ea9f237-18d5-4920-9cd7-ddd3b925d3b2",
   "metadata": {},
   "outputs": [
    {
     "data": {
      "text/plain": [
       "13975"
      ]
     },
     "execution_count": 16,
     "metadata": {},
     "output_type": "execute_result"
    }
   ],
   "source": [
    "12960 + 1015"
   ]
  },
  {
   "cell_type": "code",
   "execution_count": 6,
   "id": "5703e56c-ad0e-4234-b623-5760f6038232",
   "metadata": {},
   "outputs": [
    {
     "data": {
      "text/plain": [
       "0"
      ]
     },
     "execution_count": 6,
     "metadata": {},
     "output_type": "execute_result"
    }
   ],
   "source": [
    "3 % 3"
   ]
  },
  {
   "cell_type": "code",
   "execution_count": null,
   "id": "37ed9965-b04a-41d8-ac8d-8f2ebfcace46",
   "metadata": {},
   "outputs": [],
   "source": [
    "10 % 7"
   ]
  }
 ],
 "metadata": {
  "kernelspec": {
   "display_name": "Python 3 (ipykernel)",
   "language": "python",
   "name": "python3"
  },
  "language_info": {
   "codemirror_mode": {
    "name": "ipython",
    "version": 3
   },
   "file_extension": ".py",
   "mimetype": "text/x-python",
   "name": "python",
   "nbconvert_exporter": "python",
   "pygments_lexer": "ipython3",
   "version": "3.8.20"
  }
 },
 "nbformat": 4,
 "nbformat_minor": 5
}
