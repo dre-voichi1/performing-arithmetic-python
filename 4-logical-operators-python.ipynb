{
 "cells": [
  {
   "cell_type": "code",
   "execution_count": 8,
   "id": "14f1c028-35be-426f-ab3a-b7b4f757ba8d",
   "metadata": {},
   "outputs": [
    {
     "name": "stdout",
     "output_type": "stream",
     "text": [
      "False\n",
      "False\n"
     ]
    }
   ],
   "source": [
    "\"\"\"\n",
    "The logical operators \"and\", \"or\" and \"not\" operate upon conditions and True & False values \n",
    "(also known as booleans). \"and\" and \"or\" operate on two conditions, whereas \"not\" \n",
    "operates on a single condition\n",
    "\"\"\"\n",
    "\n",
    "# \"and\" - If both conditions are True, the entire expression is true\n",
    "my_favorite_number = 1\n",
    "my_least_favorite_number = 99\n",
    "\n",
    "print(my_favorite_number > 1 and my_least_favorite_number <= 3) # Output: \"False\"\n",
    "print(my_favorite_number < 1 and my_least_favorite_number >= 99) # Output: \"False\""
   ]
  },
  {
   "cell_type": "code",
   "execution_count": 6,
   "id": "71455e8b-490b-4dce-959d-d09d0c32a533",
   "metadata": {},
   "outputs": [
    {
     "name": "stdout",
     "output_type": "stream",
     "text": [
      "False\n"
     ]
    }
   ],
   "source": [
    "print(True and False) # \"False\"\n",
    "print(True and True) # \"True\""
   ]
  },
  {
   "cell_type": "code",
   "execution_count": 11,
   "id": "6cb4e11d-2457-4d14-94d3-eaeff83e902e",
   "metadata": {},
   "outputs": [
    {
     "name": "stdout",
     "output_type": "stream",
     "text": [
      "True\n",
      "True\n",
      "True\n"
     ]
    }
   ],
   "source": [
    "# \"or\" - The or operator returns True if at least one of the conditions evalute to True. It returns False only if both conditions are False.\n",
    "a_neutral_number = 3\n",
    "print(a_neutral_number == 3 or a_neutral_number > 5) # Output: \"True\"\n",
    "\n",
    "cost_of_ice_bag = 5\n",
    "print(cost_of_ice_bag < 5 or cost_of_ice_bag == 5) # Output: \"True\"\n",
    "print(cost_of_ice_bag != 10 or cost_of_ice_bag > 5) # Output: \"True\""
   ]
  },
  {
   "cell_type": "code",
   "execution_count": 12,
   "id": "b0ebe37d-79ed-4c0c-be49-a166cbae46be",
   "metadata": {},
   "outputs": [
    {
     "name": "stdout",
     "output_type": "stream",
     "text": [
      "True\n"
     ]
    }
   ],
   "source": [
    "print(my_favorite_number <= 3 or my_least_favorite_number > 10) # Output: \"True\""
   ]
  },
  {
   "cell_type": "code",
   "execution_count": 18,
   "id": "d7fb2a3d-0e60-4582-b777-48d63802b7ca",
   "metadata": {},
   "outputs": [
    {
     "name": "stdout",
     "output_type": "stream",
     "text": [
      "True\n",
      "False\n",
      "False\n",
      "False\n"
     ]
    }
   ],
   "source": [
    "# \"not\" - Returns False if a condition is True and True if the condition is False.\n",
    "print(not my_favorite_number > 5) # Output: \"True\"\n",
    "print(not cost_of_ice_bag < 10 or my_favorite_number > 5)\n",
    "print(not True and not False) # Output: \"False\"\n",
    "\n",
    "boolean = not True and not False # False\n",
    "print(boolean) # False"
   ]
  },
  {
   "cell_type": "code",
   "execution_count": 23,
   "id": "3657c63b-50e0-4d84-ac60-74ba851b55f7",
   "metadata": {},
   "outputs": [
    {
     "name": "stdout",
     "output_type": "stream",
     "text": [
      "True\n",
      "Complex expression: True\n",
      "False\n"
     ]
    }
   ],
   "source": [
    "\"\"\"\n",
    "Logical operators can be combined to form complex conditions. Use round brackets or parenthesis ( and ) \n",
    "to indicate the order in which logical operators should be applied.\n",
    "\"\"\"\n",
    "print((2 > 3 and 4 <= 5) or not (my_favorite_number < 0 and True)) # The first ( ) is True, while the second ( ) is True\n",
    "print(f\"Complex expression: {(2 > 3 and 4 <= 5) or not (my_favorite_number < 0 and True)}\")\n",
    "print(not (True and 0 < 1) or (8 / 4 != 2))"
   ]
  },
  {
   "cell_type": "code",
   "execution_count": 7,
   "id": "30cc2506-59d0-4567-9af6-fedff5f716c8",
   "metadata": {},
   "outputs": [
    {
     "name": "stdout",
     "output_type": "stream",
     "text": [
      "False vs. True\n"
     ]
    }
   ],
   "source": [
    "# If parenthesis are not used, logical operators are applied from left to right\n",
    "print(f\"{not True and 3 < 1} vs. {not (True and 3 < 1)}\")"
   ]
  },
  {
   "cell_type": "code",
   "execution_count": null,
   "id": "4b14d5f3-f376-4b37-a8b1-305f7f47a364",
   "metadata": {},
   "outputs": [],
   "source": []
  }
 ],
 "metadata": {
  "kernelspec": {
   "display_name": "Python 3 (ipykernel)",
   "language": "python",
   "name": "python3"
  },
  "language_info": {
   "codemirror_mode": {
    "name": "ipython",
    "version": 3
   },
   "file_extension": ".py",
   "mimetype": "text/x-python",
   "name": "python",
   "nbconvert_exporter": "python",
   "pygments_lexer": "ipython3",
   "version": "3.8.20"
  }
 },
 "nbformat": 4,
 "nbformat_minor": 5
}
